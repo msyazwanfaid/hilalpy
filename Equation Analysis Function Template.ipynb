{
 "cells": [
  {
   "cell_type": "code",
   "execution_count": null,
   "id": "8b1f4df8",
   "metadata": {},
   "outputs": [],
   "source": [
    "\n",
    "import hilalpy\n",
    "\n",
    "\n",
    "#Output File\n",
    "errorratetotal=\"Total_Error_Rate.csv\"\n",
    "poserrorratedata = \"Positive_Error_Rate_Data.csv\"\n",
    "negerrorratedata = \"Negative_Error_Rate_Data.csv\"\n",
    "csv_stats =\"stats.csv\"\n",
    "doc_loc =\"report.docx\"\n",
    "\n",
    "\n",
    "#input parameter\n",
    "b = 'ArcL'\n",
    "a = 'LT'\n",
    "#dataset = 'Whole'\n",
    "Criterion =\"Criteria Testing\"\n",
    "\n",
    "equation = \"-0.5058 * x + 0.0059 * x**2 + -0.000021 * x**3+ 10.8467 \"\n",
    "limitb = 30\n",
    "limita = 30\n",
    "\n",
    "hilalpy.equa(poserrorratedata,negerrorratedata,csv_stats,Criterion,doc_loc,a,b,equation,limita,limitb)\n"
   ]
  }
 ],
 "metadata": {
  "kernelspec": {
   "display_name": "Python 3 (ipykernel)",
   "language": "python",
   "name": "python3"
  },
  "language_info": {
   "codemirror_mode": {
    "name": "ipython",
    "version": 3
   },
   "file_extension": ".py",
   "mimetype": "text/x-python",
   "name": "python",
   "nbconvert_exporter": "python",
   "pygments_lexer": "ipython3",
   "version": "3.9.12"
  }
 },
 "nbformat": 4,
 "nbformat_minor": 5
}
