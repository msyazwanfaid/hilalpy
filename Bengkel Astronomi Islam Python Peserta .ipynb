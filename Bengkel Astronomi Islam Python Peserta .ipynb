{
 "cells": [
  {
   "cell_type": "code",
   "execution_count": 1,
   "id": "b3d76b28",
   "metadata": {},
   "outputs": [],
   "source": [
    "\n",
    "from skyfield import almanac\n",
    "from skyfield.api import Topos,load\n",
    "from skyfield import api\n",
    "from skyfield.api import GREGORIAN_START\n",
    "import matplotlib.pyplot as plt\n",
    "import numpy as np\n"
   ]
  },
  {
   "cell_type": "code",
   "execution_count": 2,
   "id": "9df953cf",
   "metadata": {},
   "outputs": [],
   "source": [
    "long=102.7722\n",
    "lat=2.1492 \n",
    "elevation=0\n",
    "year = 2023\n",
    "month = 6\n",
    "day = 18\n",
    "Timezone = +8\n"
   ]
  },
  {
   "cell_type": "code",
   "execution_count": 3,
   "id": "4aaf7f9c",
   "metadata": {},
   "outputs": [
    {
     "name": "stdout",
     "output_type": "stream",
     "text": [
      "IERS2010 latitude +2.1492 N longitude 102.7722 E elevation 0.0 m\n"
     ]
    }
   ],
   "source": [
    "location = Topos(latitude_degrees=lat, longitude_degrees=long,elevation_m=elevation)\n",
    "print(location)\n"
   ]
  },
  {
   "cell_type": "code",
   "execution_count": 4,
   "id": "5c2744b3",
   "metadata": {},
   "outputs": [],
   "source": [
    "\n",
    "#skyfield variable\n",
    "planets = load('de421.bsp')\n",
    "earth = planets['earth']\n",
    "sun = planets['sun']\n",
    "moon = planets['moon']\n",
    "\n",
    "ts = load.timescale()\n",
    "eph = api.load('de421.bsp')"
   ]
  },
  {
   "cell_type": "code",
   "execution_count": 5,
   "id": "323307ea",
   "metadata": {},
   "outputs": [
    {
     "name": "stdout",
     "output_type": "stream",
     "text": [
      "19:16\n"
     ]
    }
   ],
   "source": [
    "t0 = ts.utc(year, month, day-Timezone/24)\n",
    "t1 = ts.utc(year, month, day+1-Timezone/24)\n",
    "f = almanac.risings_and_settings(eph, eph['Sun'], location)\n",
    "t, y = almanac.find_discrete(t0, t1, f)\n",
    "\n",
    "\n",
    "z = False\n",
    "\n",
    "\n",
    "for ti, yi in zip(t, y):\n",
    "    if yi == z:\n",
    "        hsunset = ti.utc.hour\n",
    "        msunset = ti.utc.minute\n",
    "        str_sunset = str(hsunset+Timezone)+\":\"+str(msunset)\n",
    "\n",
    "\n",
    "print(str_sunset)"
   ]
  },
  {
   "cell_type": "code",
   "execution_count": 6,
   "id": "d431fb90",
   "metadata": {},
   "outputs": [
    {
     "name": "stdout",
     "output_type": "stream",
     "text": [
      "19:27\n"
     ]
    }
   ],
   "source": [
    "ts.julian_calendar_cutoff = GREGORIAN_START\n",
    "location = Topos(latitude_degrees=lat, longitude_degrees=long,elevation_m=elevation)\n",
    "t0 = ts.utc(year, month, day-Timezone/24)\n",
    "t1 = ts.utc(year, month, day+1-Timezone/24)\n",
    "f = almanac.risings_and_settings(eph, eph['Moon'], location)\n",
    "t, y = almanac.find_discrete(t0, t1, f)\n",
    "\n",
    "\n",
    "z = False\n",
    "\n",
    "\n",
    "for ti, yi in zip(t, y):\n",
    "    if yi == z:\n",
    "        hmoonset = ti.utc.hour\n",
    "        mmoonset = ti.utc.minute\n",
    "        str_moonset = str(hmoonset+Timezone)+\":\"+str(mmoonset)\n",
    "\n",
    "\n",
    "\n",
    "\n",
    "\n",
    "\n",
    "print(str_moonset)"
   ]
  },
  {
   "cell_type": "code",
   "execution_count": 7,
   "id": "2554d6df",
   "metadata": {},
   "outputs": [
    {
     "name": "stdout",
     "output_type": "stream",
     "text": [
      "Data Bulan-Matahari     Nilai\n",
      "----------------------  -------\n",
      "Masa Matahari Terbenam  19:16\n",
      "Masa bulan Terbenam     19:27\n"
     ]
    }
   ],
   "source": [
    "from tabulate import tabulate\n",
    "\n",
    "\n",
    "data = [[\"Masa Matahari Terbenam\", str_sunset],\n",
    "        [\"Masa bulan Terbenam\", str_moonset],\n",
    "         ]\n",
    "\n",
    "\n",
    "col_names = [\"Data Bulan-Matahari\", \"Nilai\"]\n",
    "\n",
    "\n",
    "data_table=(tabulate(data, headers=col_names))\n",
    "print(data_table)\n"
   ]
  },
  {
   "cell_type": "code",
   "execution_count": 8,
   "id": "27a243e6",
   "metadata": {},
   "outputs": [],
   "source": [
    "ts.julian_calendar_cutoff = GREGORIAN_START\n",
    "location = Topos(latitude_degrees=lat, longitude_degrees=long,elevation_m=elevation)\n",
    "t0 = ts.utc(year, month, day-Timezone/24)\n",
    "t1 = ts.utc(year, month, day+1-Timezone/24)\n",
    "f = almanac.risings_and_settings(eph, eph['Sun'], location)\n",
    "t, y = almanac.find_discrete(t0, t1, f)\n",
    "\n",
    "\n",
    "\n",
    "\n",
    "# print(x['Day'], x['Month'] ,x['Year'],x['Lat'],x['Long'])\n",
    "z = False\n",
    "\n",
    "\n",
    "for ti, yi in zip(t, y):\n",
    "    if yi == z:\n",
    "        ysunset = ti.utc.year\n",
    "        mosunset = ti.utc.month\n",
    "        dsunset = ti.utc.day\n",
    "        hsunset = ti.utc.hour\n",
    "        msunset = ti.utc.minute\n",
    "        ssunset = ti.utc.second\n",
    "        str_sunset = str(hsunset+Timezone)+\":\"+str(msunset)\n",
    "\n",
    "\n",
    "boston = earth + Topos(latitude_degrees=lat,longitude_degrees=long, elevation_m=elevation)\n",
    "sun_astro = boston.at(ts.utc((ysunset), (mosunset), (dsunset),(hsunset),(msunset))).observe(sun)\n",
    "sun_app = sun_astro.apparent()\n",
    "sun_alt, sun_az, sun_distance = sun_app.altaz()\n",
    "\n",
    "\n",
    "moon_astro = boston.at(ts.utc((ysunset), (mosunset), (dsunset),(hsunset),(msunset))).observe(moon)\n",
    "moon_app = moon_astro.apparent()\n",
    "moon_alt, moon_az, moon_distance = moon_app.altaz()\n",
    "elongasi =sun_app.separation_from(moon_app).degrees\n",
    "beza_altitud_bulan_matahari = (moon_alt.degrees-sun_alt.degrees)\n",
    "beza_azimuth_bulan_matahari = abs(moon_az.degrees-sun_az.degrees)"
   ]
  },
  {
   "cell_type": "code",
   "execution_count": 9,
   "id": "8b62429b",
   "metadata": {
    "scrolled": true
   },
   "outputs": [
    {
     "name": "stdout",
     "output_type": "stream",
     "text": [
      "Data Bulan-Matahari     Nilai\n",
      "----------------------  ------------------\n",
      "Masa Matahari Terbenam  19:16\n",
      "Masa bulan Terbenam     19:27\n",
      "Beza Altitud            2.3396076687229908\n",
      "Beza Azimuth            4.220622918932236\n",
      "Elongasi                4.825209833354444\n"
     ]
    }
   ],
   "source": [
    "from tabulate import tabulate\n",
    "\n",
    "\n",
    "data = [[\"Masa Matahari Terbenam\", str_sunset],\n",
    "        [\"Masa bulan Terbenam\", str_moonset],\n",
    "        [\"Beza Altitud\", beza_altitud_bulan_matahari], \n",
    "        [\"Beza Azimuth\", beza_azimuth_bulan_matahari], \n",
    "        [\"Elongasi\", elongasi], ]\n",
    "\n",
    "\n",
    "col_names = [\"Data Bulan-Matahari\", \"Nilai\"]\n",
    "\n",
    "\n",
    "data_table=(tabulate(data, headers=col_names))\n",
    "print(data_table)"
   ]
  },
  {
   "cell_type": "code",
   "execution_count": 10,
   "id": "6c529feb",
   "metadata": {},
   "outputs": [
    {
     "name": "stdout",
     "output_type": "stream",
     "text": [
      "Melepasi Kriteria\n"
     ]
    }
   ],
   "source": [
    "kriteria_altitude = 2\n",
    "kriteria_elongasi = 3\n",
    "if beza_altitud_bulan_matahari >= kriteria_altitude and elongasi >= kriteria_elongasi :\n",
    "    kenampakan = \"Melepasi Kriteria\"\n",
    "else:\n",
    "    kenampakan = 'Tidak Melepasi Kriteria'\n",
    "print(kenampakan)"
   ]
  },
  {
   "cell_type": "code",
   "execution_count": 11,
   "id": "51859945",
   "metadata": {
    "scrolled": false
   },
   "outputs": [
    {
     "name": "stdout",
     "output_type": "stream",
     "text": [
      "Data Bulan-Matahari          Nilai\n",
      "---------------------------  --------------------\n",
      "Masa Matahari Terbenam       19:16\n",
      "Masa bulan Terbenam          19:27\n",
      "Altitud Bulan                1.8201176944846793\n",
      "Beza Altitud Bulan-Matahari  2.3396076687229908\n",
      "Beza Azimuth                 4.220622918932236\n",
      "Elongasi                     4.825209833354444\n",
      "Kriteria                     Melepasi Kriteria\n",
      "Kriteria Dipilih             Kriteria MABIMS 1995\n"
     ]
    }
   ],
   "source": [
    "nama_kriteria= \"Kriteria MABIMS 1995\"\n",
    "from tabulate import tabulate\n",
    "\n",
    "\n",
    "data = [[\"Masa Matahari Terbenam\", str_sunset],\n",
    "        [\"Masa bulan Terbenam\", str_moonset],\n",
    "        [\"Altitud Bulan\", moon_alt.degrees],\n",
    "        [\"Beza Altitud Bulan-Matahari\", beza_altitud_bulan_matahari], \n",
    "        [\"Beza Azimuth\", beza_azimuth_bulan_matahari], \n",
    "        [\"Elongasi\", elongasi],\n",
    " [\"Kriteria\", kenampakan], \n",
    "[\"Kriteria Dipilih\", nama_kriteria]]\n",
    "\n",
    "\n",
    "col_names = [\"Data Bulan-Matahari\", \"Nilai\"]\n",
    "\n",
    "\n",
    "data_table=(tabulate(data, headers=col_names))\n",
    "print(data_table)"
   ]
  },
  {
   "cell_type": "code",
   "execution_count": 28,
   "id": "1b8a70ed",
   "metadata": {},
   "outputs": [
    {
     "data": {
      "text/plain": [
       "<matplotlib.collections.LineCollection at 0x15e14d996a0>"
      ]
     },
     "execution_count": 28,
     "metadata": {},
     "output_type": "execute_result"
    },
    {
     "data": {
      "image/png": "[encoded data removed]",
      "text/plain": [
       "<Figure size 1440x720 with 2 Axes>"
      ]
     },
     "metadata": {
      "needs_background": "light"
     },
     "output_type": "display_data"
    }
   ],
   "source": [
    "# Create a figure and axes\n",
    "from matplotlib.patches import Arc\n",
    "\n",
    "fig, (ax1, ax2) = plt.subplots(1, 2, figsize=(20,10))\n",
    "\n",
    "# Plot the horizon\n",
    "horizon_angles = np.linspace(0, 360, 720)\n",
    "horizon_altitudes = np.zeros_like(horizon_angles)\n",
    "ax1.plot(horizon_angles, horizon_altitudes, color='black', linestyle='-', linewidth=1)\n",
    "\n",
    "\n",
    "# Plot the Sun and Moon positions\n",
    "ax1.scatter(sun_az.degrees, sun_alt.degrees, color='orange', label='Matahari', zorder=10)\n",
    "ax1.scatter(moon_az.degrees, moon_alt.degrees, color='gray', label='Bulan', zorder=10)\n",
    "\n",
    "ax1.set_xlabel('Azimuth (darjah)')\n",
    "ax1.set_ylabel('Altitud (darjah)')\n",
    "ax1.set_title('Kedudukan Bulan-Matahari Ketika Cerapan')\n",
    "ax1.legend()\n",
    "\n",
    "\n",
    "ax2.axis('off')  # Turn off the axis for the table\n",
    "ax2.table(cellText=data, colLabels=None, cellLoc='center', loc='center')\n",
    "\n",
    "\n",
    "ax1.set_xlim(270, 320)\n",
    "ax1.set_ylim(-5, 5)\n",
    "#ax1.set_aspect('equal')\n",
    "\n",
    "\n",
    "from matplotlib.colors import LinearSegmentedColormap\n",
    "sky = LinearSegmentedColormap.from_list('sky', ['white', 'yellow', 'orange'])\n",
    "extent = ax1.get_xlim() + ax1.get_ylim()\n",
    "ax1.imshow([[0,0], [1,1]], cmap=sky, interpolation='bicubic', extent=extent)\n",
    "\n",
    "ax1.plot(horizon_angles, horizon_altitudes, color='black', linestyle='-', linewidth=1)\n",
    "\n",
    "from matplotlib.patches import Arc\n",
    "circle_radius = kriteria_elongasi\n",
    "\n",
    "# Sun center coordinates\n",
    "sun_center_x = sun_az.degrees\n",
    "sun_center_y = sun_alt.degrees\n",
    "\n",
    "# Semicircle parameters\n",
    "radius = kriteria_elongasi\n",
    "x1 = sun_az.degrees-kriteria_elongasi\n",
    "x2 = sun_az.degrees+kriteria_elongasi\n",
    "\n",
    "# Calculate the starting and ending angles of the semicircle\n",
    "start_angle = 180 - np.degrees(np.arccos((x1 - sun_center_x) / radius))\n",
    "end_angle = 180 + np.degrees(np.arccos((x2 - sun_center_x) / radius))\n",
    "\n",
    "# Create the semicircle patch\n",
    "semicircle_patch = Arc((sun_center_x, sun_center_y), 2 * radius, 2 * radius, theta1=start_angle, theta2=end_angle,\n",
    "                       fill=False, color='blue', linestyle='--')\n",
    "\n",
    "# Add the semicircle patch to the plot\n",
    "ax1.add_patch(semicircle_patch)\n",
    "# Set the plot limits\n",
    "\n",
    "\n",
    "\n",
    "# Plot the horizontal line segment\n",
    "horizontal_line_y = kriteria_altitude\n",
    "x1 = 0\n",
    "x2 = sun_az.degrees-kriteria_elongasi\n",
    "ax1.hlines(y=horizontal_line_y,xmin=x1, xmax=x2,color='red', linestyle='--')\n",
    "\n",
    "x11 = sun_az.degrees+kriteria_elongasi\n",
    "x22 = 360\n",
    "ax1.hlines(y=horizontal_line_y,xmin=x11, xmax=x22,color='red', linestyle='--')\n"
   ]
  }
 ],
 "metadata": {
  "kernelspec": {
   "display_name": "Python 3 (ipykernel)",
   "language": "python",
   "name": "python3"
  },
  "language_info": {
   "codemirror_mode": {
    "name": "ipython",
    "version": 3
   },
   "file_extension": ".py",
   "mimetype": "text/x-python",
   "name": "python",
   "nbconvert_exporter": "python",
   "pygments_lexer": "ipython3",
   "version": "3.9.12"
  }
 },
 "nbformat": 4,
 "nbformat_minor": 5
}
