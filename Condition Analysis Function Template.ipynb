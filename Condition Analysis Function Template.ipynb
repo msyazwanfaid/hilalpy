{
 "cells": [
  {
   "cell_type": "code",
   "execution_count": null,
   "id": "14dfbcd9",
   "metadata": {},
   "outputs": [],
   "source": [
    "\n",
    "import hilalpy\n",
    "\n",
    "#output file\n",
    "poserrorratedata = \"Positive_Error_Rate_Data.csv\"\n",
    "negerrorratedata = \"Negative_Error_Rate_Data.csv\"\n",
    "csv_stats =\"stats.csv\"\n",
    "doc_loc =\"report.docx\"\n",
    "\n",
    "\n",
    "#input parameter\n",
    "x = 'ArcL'\n",
    "y = 'MAlt'\n",
    "conditionx = 6.4\n",
    "conditiony = 3\n",
    "limitx = 30\n",
    "limity = 30\n",
    "Criterion = 'MABIMS 2023'\n",
    "\n",
    "hilalpy.cond(poserrorratedata,negerrorratedata,csv_stats,Criterion,doc_loc,x,y,conditionx,conditiony,limitx,limity)\n",
    "\n"
   ]
  }
 ],
 "metadata": {
  "kernelspec": {
   "display_name": "Python 3 (ipykernel)",
   "language": "python",
   "name": "python3"
  },
  "language_info": {
   "codemirror_mode": {
    "name": "ipython",
    "version": 3
   },
   "file_extension": ".py",
   "mimetype": "text/x-python",
   "name": "python",
   "nbconvert_exporter": "python",
   "pygments_lexer": "ipython3",
   "version": "3.9.12"
  }
 },
 "nbformat": 4,
 "nbformat_minor": 5
}
